{
 "cells": [
  {
   "attachments": {},
   "cell_type": "markdown",
   "metadata": {},
   "source": [
    "# Graphing module"
   ]
  },
  {
   "attachments": {},
   "cell_type": "markdown",
   "metadata": {},
   "source": [
    "## Mapping and syntax processing (AST)"
   ]
  },
  {
   "attachments": {},
   "cell_type": "markdown",
   "metadata": {},
   "source": [
    "### Syntax processing\n",
    "- Here there are 3 main options available (that I currently know of)\n",
    "    - ANTLR (more community support)\n",
    "    - tree-sitter (speed, lazy-evaluation)\n",
    "    - Bison (more for config files)\n",
    "\n",
    "Because currently we have the most done on tree-sitter, the focus will be on that, but it's always possible to switch or write a custom AST Parser since our usecase is quite unique"
   ]
  },
  {
   "cell_type": "code",
   "execution_count": 13,
   "metadata": {},
   "outputs": [
    {
     "name": "stdout",
     "output_type": "stream",
     "text": [
      "/main.py\n"
     ]
    },
    {
     "ename": "TypeError",
     "evalue": "slice indices must be integers or None or have an __index__ method",
     "output_type": "error",
     "traceback": [
      "\u001b[0;31m---------------------------------------------------------------------------\u001b[0m",
      "\u001b[0;31mTypeError\u001b[0m                                 Traceback (most recent call last)",
      "Cell \u001b[0;32mIn[13], line 63\u001b[0m\n\u001b[1;32m     60\u001b[0m graph \u001b[39m=\u001b[39m nx\u001b[39m.\u001b[39mGraph()\n\u001b[1;32m     62\u001b[0m \u001b[39m# Walk through the tree and print its structure\u001b[39;00m\n\u001b[0;32m---> 63\u001b[0m print_tree_structure(root_node, graph)\n\u001b[1;32m     65\u001b[0m \u001b[39m# Draw the graph\u001b[39;00m\n\u001b[1;32m     66\u001b[0m nt \u001b[39m=\u001b[39m Network(\u001b[39m'\u001b[39m\u001b[39m1000px\u001b[39m\u001b[39m'\u001b[39m, \u001b[39m'\u001b[39m\u001b[39m2000px\u001b[39m\u001b[39m'\u001b[39m)\n",
      "Cell \u001b[0;32mIn[13], line 39\u001b[0m, in \u001b[0;36mprint_tree_structure\u001b[0;34m(node, graph)\u001b[0m\n\u001b[1;32m     37\u001b[0m \u001b[39mdef\u001b[39;00m \u001b[39mprint_tree_structure\u001b[39m(node: Node, graph: nx\u001b[39m.\u001b[39mGraph):\n\u001b[1;32m     38\u001b[0m     \u001b[39m# Print the node's value\u001b[39;00m\n\u001b[0;32m---> 39\u001b[0m     \u001b[39mprint\u001b[39m(node\u001b[39m.\u001b[39mid, node\u001b[39m.\u001b[39mtype, node\u001b[39m.\u001b[39;49mtext[node\u001b[39m.\u001b[39;49mstart_point:node\u001b[39m.\u001b[39;49mend_point])\n\u001b[1;32m     41\u001b[0m     \u001b[39m# Add the node to the graph\u001b[39;00m\n\u001b[1;32m     42\u001b[0m     graph\u001b[39m.\u001b[39madd_node(node\u001b[39m.\u001b[39mid)\n",
      "\u001b[0;31mTypeError\u001b[0m: slice indices must be integers or None or have an __index__ method"
     ]
    }
   ],
   "source": [
    "from dataclasses import dataclass\n",
    "import sys\n",
    "\n",
    "# This is used to be able to import from src directory\n",
    "sys.path.append(\"../\")\n",
    "\n",
    "\n",
    "from src.repository_processing import files_from_repository\n",
    "from tree_sitter_languages import get_language, get_parser\n",
    "from tree_sitter import Language, Parser, Node\n",
    "from programming_language_extensions import currated_language_list\n",
    "\n",
    "#TODO: Add Result monad to properties to handle errors\n",
    "# @property is not cached, if more performance needed use @functools.cached_property\n",
    "@dataclass\n",
    "class LanguageInfo:\n",
    "    \"\"\"holds language information and parser for AST\"\"\"\n",
    "    name: str\n",
    "\n",
    "    @property\n",
    "    def extensions(self) -> tuple[str]:\n",
    "        return currated_language_list[self.name]\n",
    "\n",
    "    @property\n",
    "    def language(self) -> Language:\n",
    "        return get_language(self.name)\n",
    "    \n",
    "    @property\n",
    "    def parser(self) -> Parser:\n",
    "        return get_parser(self.name)\n",
    "\n",
    "python_language = LanguageInfo(\"python\")\n",
    "\n",
    "import networkx as nx\n",
    "from pyvis.network import Network\n",
    "\n",
    "def print_tree_structure(node: Node, graph: nx.Graph):\n",
    "    # Print the node's value\n",
    "    print(node.id, node.type, node.text)\n",
    "    \n",
    "    # Add the node to the graph\n",
    "    graph.add_node(node.id)\n",
    "    \n",
    "    # Recursively print the structure of the node's children\n",
    "    for child in node.children:\n",
    "        print_tree_structure(child, graph)\n",
    "        graph.add_edge(node.id, child.id)\n",
    "        \n",
    "\n",
    "\n",
    "files = files_from_repository(\"https://github.com/Foxicution/repo-review\")\n",
    "for file in files:\n",
    "    if file.path.endswith(python_language.extensions):\n",
    "        print(file.path)\n",
    "        # Parse the file and get the root node of the tree\n",
    "        tree = python_language.parser.parse(file.content)\n",
    "        root_node = tree.root_node\n",
    "\n",
    "        # Create an empty graph\n",
    "        graph = nx.Graph()\n",
    "\n",
    "        # Walk through the tree and print its structure\n",
    "        print_tree_structure(root_node, graph)\n",
    "\n",
    "        # Draw the graph\n",
    "        nt = Network('1000px', '2000px')\n",
    "        # populates the nodes and edges data structures\n",
    "        # nt.from_nx(graph)\n",
    "        # nt.show('nx.html')\n",
    "        break\n",
    "\n"
   ]
  }
 ],
 "metadata": {
  "kernelspec": {
   "display_name": ".venv",
   "language": "python",
   "name": "python3"
  },
  "language_info": {
   "codemirror_mode": {
    "name": "ipython",
    "version": 3
   },
   "file_extension": ".py",
   "mimetype": "text/x-python",
   "name": "python",
   "nbconvert_exporter": "python",
   "pygments_lexer": "ipython3",
   "version": "3.10.8"
  },
  "orig_nbformat": 4,
  "vscode": {
   "interpreter": {
    "hash": "8bf7c83b85f6916a526ec3d7accd73d1686ab86ed6ed6f32d2233941fef0cc07"
   }
  }
 },
 "nbformat": 4,
 "nbformat_minor": 2
}
