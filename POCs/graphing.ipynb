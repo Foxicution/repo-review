{
 "cells": [
  {
   "attachments": {},
   "cell_type": "markdown",
   "metadata": {},
   "source": [
    "# Graphing module"
   ]
  },
  {
   "attachments": {},
   "cell_type": "markdown",
   "metadata": {},
   "source": [
    "## Mapping and syntax processing (AST)"
   ]
  },
  {
   "attachments": {},
   "cell_type": "markdown",
   "metadata": {},
   "source": [
    "### Syntax processing (AST)\n",
    "- Here there are 3 main options available (that I currently know of)\n",
    "    - ANTLR (more community support)\n",
    "    - tree-sitter (speed, lazy-evaluation)\n",
    "    - Bison (more for config files)\n",
    "\n",
    "Because currently we have the most done on tree-sitter, the focus will be on that, but it's always possible to switch or write a custom AST Parser since our usecase is quite unique"
   ]
  },
  {
   "cell_type": "code",
   "execution_count": 6,
   "metadata": {},
   "outputs": [
    {
     "name": "stdout",
     "output_type": "stream",
     "text": [
      "/main.py\n"
     ]
    }
   ],
   "source": [
    "from dataclasses import dataclass\n",
    "import sys\n",
    "from enum import unique, Enum\n",
    "from unicodedata import name\n",
    "\n",
    "# This is used to be able to import from src directory\n",
    "sys.path.append(\"../\")\n",
    "\n",
    "\n",
    "from src.repository_processing import files_from_repository\n",
    "from tree_sitter_languages import get_language, get_parser\n",
    "from tree_sitter import Language, Parser, Node\n",
    "from abc import ABC, abstractmethod, abstractproperty\n",
    "\n",
    "\n",
    "# TODO: Add Result monad to properties to handle errors\n",
    "# @property is not cached, if more performance needed use @functools.cached_property\n",
    "@dataclass\n",
    "class LanguageInfo(ABC):\n",
    "    \"\"\"abstract base class (impl) for holding language information and parsers for AST\"\"\"\n",
    "\n",
    "    @property\n",
    "    @abstractmethod\n",
    "    def name() -> str:\n",
    "        ...\n",
    "\n",
    "    @property\n",
    "    @abstractmethod\n",
    "    def extensions() -> tuple[str]:\n",
    "        ...\n",
    "\n",
    "    @property\n",
    "    def language(self) -> Language:\n",
    "        return get_language(self.name)\n",
    "\n",
    "    @property\n",
    "    def parser(self) -> Parser:\n",
    "        return get_parser(self.name)\n",
    "\n",
    "\n",
    "class Python(LanguageInfo):\n",
    "    name: str = \"python\"\n",
    "    extensions: tuple[str] = \".py\"\n",
    "\n",
    "\n",
    "class JavaScript(LanguageInfo):\n",
    "    name: str = \"javascript\"\n",
    "    extensions: tuple[str] = \".js\"\n",
    "\n",
    "\n",
    "# matching the file name to the correct language class using it's extension list\n",
    "def get_language_class(file_path: str) -> LanguageInfo:\n",
    "    for language_class in LanguageInfo.__subclasses__():\n",
    "        for extension in language_class.extensions:\n",
    "            if file_path.endswith(extension):\n",
    "                return language_class\n",
    "    raise ValueError(\"No language class found for file path\")\n",
    "\n",
    "\n",
    "python_language = Python()\n",
    "\n",
    "import networkx as nx\n",
    "from pyvis.network import Network\n",
    "\n",
    "\n",
    "def print_tree_structure(node: Node, graph: nx.Graph):\n",
    "    # Print the node's value\n",
    "    print(node.id, node.type, node.text)\n",
    "\n",
    "    # Add the node to the graph\n",
    "    graph.add_node(node.id, title=str(node.text))\n",
    "\n",
    "    # Recursively print the structure of the node's children\n",
    "    for child in node.children:\n",
    "        print_tree_structure(child, graph)\n",
    "        graph.add_edge(node.id, child.id)\n",
    "\n",
    "\n",
    "def process_dependancy_logic(node: Node, graph: nx.Graph):\n",
    "    # Add the node to the graph\n",
    "    graph.add_node(node.id, title=str(node.text))\n",
    "\n",
    "    # Check if the node is of a specific type that indicates dependancy\n",
    "    if node.type in [\"import_declaration\", \"function_call\", \"variable_reference\"]:\n",
    "        # Add an edge to the dependancy node in the graph\n",
    "        dependancy_node = node.children[0]\n",
    "        graph.add_edge(node.id, dependancy_node.id)\n",
    "\n",
    "    # Check if the node is of a specific type that indicates logic\n",
    "    elif node.type in [\"if_statement\", \"for_statement\", \"while_statement\"]:\n",
    "        # Add an edge to the logic node in the graph\n",
    "        logic_node = node.children[0]\n",
    "        graph.add_edge(node.id, logic_node.id)\n",
    "\n",
    "    # Recursively process the structure of the node's children\n",
    "    for child in node.children:\n",
    "        process_dependancy_logic(child, graph)\n",
    "\n",
    "\n",
    "files = files_from_repository(\"https://github.com/Foxicution/repo-review\")\n",
    "for file in files:\n",
    "    if file.path.endswith(python_language.extensions):\n",
    "        print(file.path)\n",
    "        # Parse the file and get the root node of the tree\n",
    "        tree = python_language.parser.parse(file.content)\n",
    "        root_node = tree.root_node\n",
    "\n",
    "        # Create an empty graph\n",
    "        graph = nx.Graph()\n",
    "\n",
    "        # Walk through the tree and print its structure\n",
    "        # print_tree_structure(root_node, graph)\n",
    "        process_dependancy_logic(root_node, graph)\n",
    "\n",
    "        # Draw the graph\n",
    "        nt = Network(\"1000px\", \"2000px\")\n",
    "        nt.options.physics.enabled = False\n",
    "        nt.show_buttons()\n",
    "        # populates the nodes and edges data structures\n",
    "        nt.from_nx(graph)\n",
    "        nt.show(\"nx.html\")\n",
    "        break\n"
   ]
  },
  {
   "cell_type": "code",
   "execution_count": null,
   "metadata": {},
   "outputs": [],
   "source": []
  }
 ],
 "metadata": {
  "kernelspec": {
   "display_name": ".venv",
   "language": "python",
   "name": "python3"
  },
  "language_info": {
   "codemirror_mode": {
    "name": "ipython",
    "version": 3
   },
   "file_extension": ".py",
   "mimetype": "text/x-python",
   "name": "python",
   "nbconvert_exporter": "python",
   "pygments_lexer": "ipython3",
   "version": "3.10.8"
  },
  "orig_nbformat": 4,
  "vscode": {
   "interpreter": {
    "hash": "8bf7c83b85f6916a526ec3d7accd73d1686ab86ed6ed6f32d2233941fef0cc07"
   }
  }
 },
 "nbformat": 4,
 "nbformat_minor": 2
}
