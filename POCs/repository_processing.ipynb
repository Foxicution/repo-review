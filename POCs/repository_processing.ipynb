{
 "cells": [
  {
   "cell_type": "code",
   "execution_count": 2,
   "metadata": {},
   "outputs": [
    {
     "name": "stdout",
     "output_type": "stream",
     "text": [
      "\n",
      "100644 blob 757f2edf33314760a29ee426396b59dc48919e73\t.idea/.gitignore\n",
      "100644 blob 105ce2da2d6447d11dfe32bfb846c3d5b199fc99\t.idea/inspectionProfiles/profiles_settings.xml\n",
      "100644 blob 5c9b14c28fb8bae86ce1a3034078b360d02372e1\t.idea/misc.xml\n",
      "100644 blob ed6c156a7ad837cf2c5e67f15a7ff3327265ea0b\t.idea/modules.xml\n",
      "100644 blob 74d515a027de98657e9d3d5f0f1831882fd81374\t.idea/trello_list_namer.iml\n",
      "100644 blob 94a25f7f4cb416c083d265558da75d457237d671\t.idea/vcs.xml\n",
      "100644 blob 6d34db6d8622f44b2569514d21342cb06e19b7ff\tLICENSE\n",
      "100644 blob dd78833c1c066f15c1e3b526bf740e27fc1e9233\tREADME.md\n",
      "100644 blob f4719b62bb03b4cb7b08351bf831eabe39c703e3\tbuilding/build.py\n",
      "100644 blob 29a2646a764394dc4d267fce3e0cb7b370753c5d\tmain.py\n",
      "100644 blob 008aa62795e6a7a43ebe3448d82a5e8d51238121\trequirements.txt\n",
      "100644 blob 57ae357cfe2f2d1e82a83af1c02b4fed5ce73e3d\tstructs.py\n",
      "100644 blob a1d674a012674d2b2d37c3735d250e51f521da04\ttesting/run_tests.bat\n",
      "100644 blob 92f40cf24bbdc624da3f97f7e556640e84b7fd3b\ttesting/run_tests.sh\n",
      "100644 blob f68b8cf875e2f02875e649bdd2333546e7faf6f2\ttesting/test.py\n",
      "100644 blob 55d3d44a9c443970f6597d1dd5ca34a74d39e483\ttesting/test_cases.py\n"
     ]
    },
    {
     "data": {
      "text/plain": [
       "['.idea/.gitignore',\n",
       " '.idea/inspectionProfiles/profiles_settings.xml',\n",
       " '.idea/misc.xml',\n",
       " '.idea/modules.xml',\n",
       " '.idea/trello_list_namer.iml',\n",
       " '.idea/vcs.xml',\n",
       " 'LICENSE',\n",
       " 'README.md',\n",
       " 'building/build.py',\n",
       " 'main.py',\n",
       " 'requirements.txt',\n",
       " 'structs.py',\n",
       " 'testing/run_tests.bat',\n",
       " 'testing/run_tests.sh',\n",
       " 'testing/test.py',\n",
       " 'testing/test_cases.py']"
      ]
     },
     "execution_count": 2,
     "metadata": {},
     "output_type": "execute_result"
    }
   ],
   "source": [
    "from git.repo import Repo\n",
    "from git.diff import Diff\n",
    "from os.path import exists\n",
    "\n",
    "def get_repo(repo_url: str) -> Repo:\n",
    "  repo_path = f\"repos/{repo_url.split('/')[-1]}\"\n",
    "  return Repo(repo_path) if exists(repo_path) else Repo.clone_from(repo_url, repo_path)\n",
    "\n",
    "def sync(repo: Repo) -> Repo:\n",
    "  repo.remote().pull()\n",
    "  return repo\n",
    "\n",
    "def list_files(repo_url):\n",
    "  # Clone the repository to a local directory\n",
    "  repo = get_repo(repo_url)\n",
    "  sync(repo)\n",
    "  # for tree in repo.iter_trees():\n",
    "  #   print(tree)\n",
    "  for commit in repo.iter_commits():\n",
    "    diffs: list[Diff]  = commit.diff(repo.tree())\n",
    "    if diffs:\n",
    "      print(diffs[0].diff)\n",
    "      break\n",
    "  # List all the files in the repository\n",
    "  tree = repo.git.ls_tree(\"--full-tree\", \"-r\", \"HEAD\")\n",
    "  print(tree)\n",
    "  files = []\n",
    "  for line in tree.split(\"\\n\"):\n",
    "    # Extract the file name from the output of `git ls-tree`\n",
    "    parts = line.split()\n",
    "    if len(parts) > 1:\n",
    "      files.append(parts[-1])\n",
    "\n",
    "  return files\n",
    "\n",
    "# Example usage:\n",
    "list_files(\"https://github.com/Foxicution/trello-weekday-list-automation\")"
   ]
  },
  {
   "attachments": {},
   "cell_type": "markdown",
   "metadata": {},
   "source": [
    "# Repository processing module"
   ]
  },
  {
   "attachments": {},
   "cell_type": "markdown",
   "metadata": {},
   "source": [
    "## Repository link processing and encoding"
   ]
  },
  {
   "attachments": {},
   "cell_type": "markdown",
   "metadata": {},
   "source": [
    "### Encoding\n",
    "- As seen in the results this takes almost no time ~1k ns = 1e-6 s\n",
    "- Using % encoding is a very common approach\n",
    "- The algorithm might become faster in the future as it is very widely used"
   ]
  },
  {
   "cell_type": "code",
   "execution_count": 25,
   "metadata": {},
   "outputs": [
    {
     "name": "stdout",
     "output_type": "stream",
     "text": [
      "1056 ns\n"
     ]
    }
   ],
   "source": [
    "class timing:\n",
    "    \"\"\"Object decorator that times the average execution time of a function\"\"\"\n",
    "\n",
    "    def __init__(self, func):\n",
    "        self.func = func\n",
    "        self.times = []\n",
    "        self.avg_time = 0\n",
    "\n",
    "    def __call__(self, *args, **kwargs):\n",
    "        import time\n",
    "\n",
    "        start = time.perf_counter_ns()\n",
    "        result = self.func(*args, **kwargs)\n",
    "        end = time.perf_counter_ns()\n",
    "        self.times.append(end - start)\n",
    "        self.avg_time = sum(self.times) / len(self.times)\n",
    "        return result\n",
    "\n",
    "\n",
    "def random_string(string_length: int = 10) -> str:\n",
    "    \"\"\"Function that generates a random string of fixed length\"\"\"\n",
    "    from random import choice\n",
    "    from string import ascii_lowercase\n",
    "\n",
    "    letters = ascii_lowercase\n",
    "    return \"\".join(choice(letters) for i in range(string_length))\n",
    "\n",
    "\n",
    "from urllib.parse import quote\n",
    "\n",
    "\n",
    "@timing\n",
    "def to_url(string: str) -> str:\n",
    "    \"\"\"Function that converts a string to a url using % encoding\"\"\"\n",
    "    return quote(string, safe=\"\")\n",
    "\n",
    "\n",
    "from toolz.functoolz import pipe\n",
    "\n",
    "for i in range(1000):\n",
    "    pipe(20, random_string, to_url)\n",
    "\n",
    "print(f\"{to_url.avg_time:0.0f} ns\")\n"
   ]
  },
  {
   "attachments": {},
   "cell_type": "markdown",
   "metadata": {},
   "source": [
    "### Formatting, storing and decoding\n",
    "- The full encoding and decoding pipeline"
   ]
  },
  {
   "cell_type": "code",
   "execution_count": 16,
   "metadata": {},
   "outputs": [
    {
     "name": "stdout",
     "output_type": "stream",
     "text": [
      "Original name: Foxicution/repo-review\n",
      "File is stored as: Foxicution%2Frepo-review\n",
      "Decoded name: Foxicution/repo-review\n"
     ]
    }
   ],
   "source": [
    "from urllib.parse import quote, unquote\n",
    "\n",
    "\n",
    "# Functions for encoding/decoding strings to urls\n",
    "def to_url(string: str) -> str:\n",
    "    \"\"\"Function that converts a string to a url using % encoding\"\"\"\n",
    "    return quote(string, safe=\"\")\n",
    "\n",
    "\n",
    "def from_url(url: str) -> str:\n",
    "    \"\"\"Function that converts a url to a string using % decoding\"\"\"\n",
    "    return unquote(url)\n",
    "\n",
    "\n",
    "# Function for storing files\n",
    "def store(file_name: str) -> str:\n",
    "    \"\"\"Temporary represantation of storage function by printing the file name\"\"\"\n",
    "    print(f\"File is stored as: {file_name}\")\n",
    "    return file_name\n",
    "\n",
    "\n",
    "original_name = \"Foxicution/repo-review\"\n",
    "print(f\"Original name: {original_name}\")\n",
    "decoded_name = pipe(original_name, to_url, store, from_url)\n",
    "print(f\"Decoded name: {decoded_name}\")\n"
   ]
  },
  {
   "attachments": {},
   "cell_type": "markdown",
   "metadata": {},
   "source": [
    "### Storage, cloning and pull pipeline\n",
    "- Using GitPython for speed instead of PyGithub\n",
    "- Benchmarking (pulling is more important)\n",
    "    - pulling ~ 0.5 s, cloning ~ 7 s\n",
    "    - reading a repository from memory is quite quick and the rest depend on the internet speed mostly\n",
    "    - Not sure how much overhead python introduces here\n",
    "- Overall happy with the results here"
   ]
  },
  {
   "cell_type": "code",
   "execution_count": 29,
   "metadata": {},
   "outputs": [
    {
     "name": "stdout",
     "output_type": "stream",
     "text": [
      "repos/Foxicution%2Frepo-review\n",
      "repos/Foxicution/repo-review\n",
      "Cloning the repo took 7288906527 ns = 7.29 s\n",
      "Pulling the repo took 408921482 ns = 0.41 s\n",
      "Cloning the large repo took 7054021202 ns = 7.05 s\n",
      "Pulling the large repo took 528728527 ns = 0.53 s\n"
     ]
    }
   ],
   "source": [
    "from git.repo import Repo\n",
    "from os.path import exists\n",
    "\n",
    "\n",
    "def format_repo_url(repo_url: str) -> str:\n",
    "    \"\"\"Function that removes the storage system domain from the repo url\"\"\"\n",
    "    return repo_url.split(\"github.com/\")[-1]\n",
    "\n",
    "\n",
    "# Check if the formatting works as expected\n",
    "repo_url = \"https://github.com/Foxicution/repo-review\"\n",
    "repo_path = f\"repos/{pipe(repo_url, format_repo_url, to_url)}\"\n",
    "print(repo_path)\n",
    "print(from_url(repo_path))\n",
    "\n",
    "\n",
    "def pull_repo(repo_path) -> Repo:\n",
    "    \"\"\"Function that pulls the latest changes from a repository in a local directory\"\"\"\n",
    "    repo = Repo(repo_path)\n",
    "    repo.remote().pull()\n",
    "    return repo\n",
    "\n",
    "\n",
    "@timing\n",
    "def get_repo(repo_url: str) -> Repo:\n",
    "    \"\"\"Function that clones a repository to a local directory\"\"\"\n",
    "    repo_path = f\"repos/{pipe(repo_url, format_repo_url, to_url)}\"\n",
    "    return pull_repo(repo_path) if exists(repo_path) else Repo.clone_from(repo_url, repo_path)\n",
    "\n",
    "\n",
    "get_repo(repo_url)\n",
    "print(\n",
    "    f\"Cloning the repo took {get_repo.times[-1]:0.0f} ns = {get_repo.times[-1] / 1e9:0.2f} s\"\n",
    ")\n",
    "get_repo(repo_url)\n",
    "print(\n",
    "    f\"Pulling the repo took {get_repo.times[-1]:0.0f} ns = {get_repo.times[-1] / 1e9:0.2f} s\"\n",
    ")\n",
    "large_repo_url = \"https://github.com/python/mypy\"\n",
    "get_repo(large_repo_url)\n",
    "print(\n",
    "    f\"Cloning the large repo took {get_repo.times[-1]:0.0f} ns = {get_repo.times[-1] / 1e9:0.2f} s\"\n",
    ")\n",
    "get_repo(repo_url)\n",
    "print(\n",
    "    f\"Pulling the large repo took {get_repo.times[-1]:0.0f} ns = {get_repo.times[-1] / 1e9:0.2f} s\"\n",
    ")\n"
   ]
  },
  {
   "cell_type": "code",
   "execution_count": null,
   "metadata": {},
   "outputs": [],
   "source": []
  }
 ],
 "metadata": {
  "kernelspec": {
   "display_name": ".venv",
   "language": "python",
   "name": "python3"
  },
  "language_info": {
   "codemirror_mode": {
    "name": "ipython",
    "version": 3
   },
   "file_extension": ".py",
   "mimetype": "text/x-python",
   "name": "python",
   "nbconvert_exporter": "python",
   "pygments_lexer": "ipython3",
   "version": "3.10.8"
  },
  "orig_nbformat": 4,
  "vscode": {
   "interpreter": {
    "hash": "8bf7c83b85f6916a526ec3d7accd73d1686ab86ed6ed6f32d2233941fef0cc07"
   }
  }
 },
 "nbformat": 4,
 "nbformat_minor": 2
}
