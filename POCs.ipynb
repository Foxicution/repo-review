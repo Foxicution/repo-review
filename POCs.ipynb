{
 "cells": [
  {
   "cell_type": "code",
   "execution_count": 2,
   "metadata": {},
   "outputs": [
    {
     "name": "stdout",
     "output_type": "stream",
     "text": [
      "\n",
      "100644 blob 757f2edf33314760a29ee426396b59dc48919e73\t.idea/.gitignore\n",
      "100644 blob 105ce2da2d6447d11dfe32bfb846c3d5b199fc99\t.idea/inspectionProfiles/profiles_settings.xml\n",
      "100644 blob 5c9b14c28fb8bae86ce1a3034078b360d02372e1\t.idea/misc.xml\n",
      "100644 blob ed6c156a7ad837cf2c5e67f15a7ff3327265ea0b\t.idea/modules.xml\n",
      "100644 blob 74d515a027de98657e9d3d5f0f1831882fd81374\t.idea/trello_list_namer.iml\n",
      "100644 blob 94a25f7f4cb416c083d265558da75d457237d671\t.idea/vcs.xml\n",
      "100644 blob 6d34db6d8622f44b2569514d21342cb06e19b7ff\tLICENSE\n",
      "100644 blob dd78833c1c066f15c1e3b526bf740e27fc1e9233\tREADME.md\n",
      "100644 blob f4719b62bb03b4cb7b08351bf831eabe39c703e3\tbuilding/build.py\n",
      "100644 blob 29a2646a764394dc4d267fce3e0cb7b370753c5d\tmain.py\n",
      "100644 blob 008aa62795e6a7a43ebe3448d82a5e8d51238121\trequirements.txt\n",
      "100644 blob 57ae357cfe2f2d1e82a83af1c02b4fed5ce73e3d\tstructs.py\n",
      "100644 blob a1d674a012674d2b2d37c3735d250e51f521da04\ttesting/run_tests.bat\n",
      "100644 blob 92f40cf24bbdc624da3f97f7e556640e84b7fd3b\ttesting/run_tests.sh\n",
      "100644 blob f68b8cf875e2f02875e649bdd2333546e7faf6f2\ttesting/test.py\n",
      "100644 blob 55d3d44a9c443970f6597d1dd5ca34a74d39e483\ttesting/test_cases.py\n"
     ]
    },
    {
     "data": {
      "text/plain": [
       "['.idea/.gitignore',\n",
       " '.idea/inspectionProfiles/profiles_settings.xml',\n",
       " '.idea/misc.xml',\n",
       " '.idea/modules.xml',\n",
       " '.idea/trello_list_namer.iml',\n",
       " '.idea/vcs.xml',\n",
       " 'LICENSE',\n",
       " 'README.md',\n",
       " 'building/build.py',\n",
       " 'main.py',\n",
       " 'requirements.txt',\n",
       " 'structs.py',\n",
       " 'testing/run_tests.bat',\n",
       " 'testing/run_tests.sh',\n",
       " 'testing/test.py',\n",
       " 'testing/test_cases.py']"
      ]
     },
     "execution_count": 2,
     "metadata": {},
     "output_type": "execute_result"
    }
   ],
   "source": [
    "from git.repo import Repo\n",
    "from git.diff import Diff\n",
    "from os.path import exists\n",
    "\n",
    "def get_repo(repo_url: str) -> Repo:\n",
    "  repo_path = f\"repos/{repo_url.split('/')[-1]}\"\n",
    "  return Repo(repo_path) if exists(repo_path) else Repo.clone_from(repo_url, repo_path)\n",
    "\n",
    "def sync(repo: Repo) -> Repo:\n",
    "  repo.remote().pull()\n",
    "  return repo\n",
    "\n",
    "def list_files(repo_url):\n",
    "  # Clone the repository to a local directory\n",
    "  repo = get_repo(repo_url)\n",
    "  sync(repo)\n",
    "  # for tree in repo.iter_trees():\n",
    "  #   print(tree)\n",
    "  for commit in repo.iter_commits():\n",
    "    diffs: list[Diff]  = commit.diff(repo.tree())\n",
    "    if diffs:\n",
    "      print(diffs[0].diff)\n",
    "      break\n",
    "  # List all the files in the repository\n",
    "  tree = repo.git.ls_tree(\"--full-tree\", \"-r\", \"HEAD\")\n",
    "  print(tree)\n",
    "  files = []\n",
    "  for line in tree.split(\"\\n\"):\n",
    "    # Extract the file name from the output of `git ls-tree`\n",
    "    parts = line.split()\n",
    "    if len(parts) > 1:\n",
    "      files.append(parts[-1])\n",
    "\n",
    "  return files\n",
    "\n",
    "# Example usage:\n",
    "list_files(\"https://github.com/Foxicution/trello-weekday-list-automation\")"
   ]
  },
  {
   "cell_type": "code",
   "execution_count": null,
   "metadata": {},
   "outputs": [],
   "source": []
  }
 ],
 "metadata": {
  "kernelspec": {
   "display_name": ".venv",
   "language": "python",
   "name": "python3"
  },
  "language_info": {
   "codemirror_mode": {
    "name": "ipython",
    "version": 3
   },
   "file_extension": ".py",
   "mimetype": "text/x-python",
   "name": "python",
   "nbconvert_exporter": "python",
   "pygments_lexer": "ipython3",
   "version": "3.10.8"
  },
  "orig_nbformat": 4,
  "vscode": {
   "interpreter": {
    "hash": "8bf7c83b85f6916a526ec3d7accd73d1686ab86ed6ed6f32d2233941fef0cc07"
   }
  }
 },
 "nbformat": 4,
 "nbformat_minor": 2
}
