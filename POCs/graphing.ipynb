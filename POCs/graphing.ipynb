{
 "cells": [
  {
   "attachments": {},
   "cell_type": "markdown",
   "metadata": {},
   "source": [
    "# Graphing module"
   ]
  },
  {
   "attachments": {},
   "cell_type": "markdown",
   "metadata": {},
   "source": [
    "## Mapping and syntax processing (AST)"
   ]
  },
  {
   "attachments": {},
   "cell_type": "markdown",
   "metadata": {},
   "source": [
    "### Syntax processing\n",
    "- Here there are 3 main options available (that I currently know of)\n",
    "    - ANTLR (more community support)\n",
    "    - tree-sitter (speed, lazy-evaluation)\n",
    "    - Bison (more for config files)\n",
    "\n",
    "Because currently we have the most done on tree-sitter, the focus will be on that, but it's always possible to switch or write a custom AST Parser since our usecase is quite unique"
   ]
  },
  {
   "cell_type": "code",
   "execution_count": 45,
   "metadata": {},
   "outputs": [],
   "source": [
    "from dataclasses import dataclass\n",
    "import sys\n",
    "\n",
    "# This is used to be able to import from src directory\n",
    "sys.path.append(\"../\")\n",
    "\n",
    "\n",
    "from src.repository_processing import files_from_repository\n",
    "from tree_sitter_languages import get_language, get_parser\n",
    "from tree_sitter import Language, Parser\n",
    "from programming_language_extensions import currated_language_list\n",
    "\n",
    "#TODO: Add Result monad to properties to handle errors\n",
    "# @property is not cached, if more performance needed use @functools.cached_property\n",
    "@dataclass\n",
    "class LanguageInfo:\n",
    "    \"\"\"holds language information and parser for AST\"\"\"\n",
    "    name: str\n",
    "\n",
    "    @property\n",
    "    def extensions(self) -> list[str]:\n",
    "        return currated_language_list[self.name]\n",
    "\n",
    "    @property\n",
    "    def language(self) -> Language:\n",
    "        return get_language(self.name)\n",
    "    \n",
    "    @property\n",
    "    def parser(self) -> Parser:\n",
    "        return get_parser(self.name)\n",
    "\n",
    "python_language = LanguageInfo(\"python\")\n",
    "\n",
    "\n",
    "\n",
    "\n"
   ]
  }
 ],
 "metadata": {
  "kernelspec": {
   "display_name": ".venv",
   "language": "python",
   "name": "python3"
  },
  "language_info": {
   "codemirror_mode": {
    "name": "ipython",
    "version": 3
   },
   "file_extension": ".py",
   "mimetype": "text/x-python",
   "name": "python",
   "nbconvert_exporter": "python",
   "pygments_lexer": "ipython3",
   "version": "3.10.8"
  },
  "orig_nbformat": 4,
  "vscode": {
   "interpreter": {
    "hash": "8bf7c83b85f6916a526ec3d7accd73d1686ab86ed6ed6f32d2233941fef0cc07"
   }
  }
 },
 "nbformat": 4,
 "nbformat_minor": 2
}
