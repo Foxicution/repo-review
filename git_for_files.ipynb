{
 "cells": [
  {
   "cell_type": "code",
   "execution_count": 10,
   "metadata": {},
   "outputs": [
    {
     "ename": "AttributeError",
     "evalue": "'str' object has no attribute 'decode'",
     "output_type": "error",
     "traceback": [
      "\u001b[0;31m---------------------------------------------------------------------------\u001b[0m",
      "\u001b[0;31mAttributeError\u001b[0m                            Traceback (most recent call last)",
      "Cell \u001b[0;32mIn[10], line 32\u001b[0m\n\u001b[1;32m     29\u001b[0m   \u001b[39mreturn\u001b[39;00m files\n\u001b[1;32m     31\u001b[0m \u001b[39m# Example usage:\u001b[39;00m\n\u001b[0;32m---> 32\u001b[0m list_files(\u001b[39m\"\u001b[39;49m\u001b[39mhttps://github.com/kootenpv/just\u001b[39;49m\u001b[39m\"\u001b[39;49m)\n",
      "Cell \u001b[0;32mIn[10], line 17\u001b[0m, in \u001b[0;36mlist_files\u001b[0;34m(repo_url)\u001b[0m\n\u001b[1;32m     15\u001b[0m   diffs: \u001b[39mlist\u001b[39m[Diff]  \u001b[39m=\u001b[39m commit\u001b[39m.\u001b[39mdiff(repo\u001b[39m.\u001b[39mtree())\n\u001b[1;32m     16\u001b[0m   \u001b[39mif\u001b[39;00m diffs:\n\u001b[0;32m---> 17\u001b[0m     \u001b[39mprint\u001b[39m(diffs[\u001b[39m0\u001b[39;49m]\u001b[39m.\u001b[39;49mdiff\u001b[39m.\u001b[39;49mdecode())\n\u001b[1;32m     18\u001b[0m     \u001b[39mbreak\u001b[39;00m\n\u001b[1;32m     19\u001b[0m \u001b[39m# List all the files in the repository\u001b[39;00m\n",
      "\u001b[0;31mAttributeError\u001b[0m: 'str' object has no attribute 'decode'"
     ]
    }
   ],
   "source": [
    "from git.repo import Repo\n",
    "from git.diff import Diff\n",
    "from os.path import exists\n",
    "\n",
    "def get_repo(repo_url: str) -> Repo:\n",
    "  repo_path = f\"repos/{repo_url.split('/')[-1]}\"\n",
    "  return Repo(repo_path) if exists(repo_path) else Repo.clone_from(repo_url, repo_path)\n",
    "\n",
    "def list_files(repo_url):\n",
    "  # Clone the repository to a local directory\n",
    "  repo = get_repo(repo_url)\n",
    "  # for tree in repo.iter_trees():\n",
    "  #   print(tree)\n",
    "  for commit in repo.iter_commits():\n",
    "    diffs: list[Diff]  = commit.diff(repo.tree())\n",
    "    if diffs:\n",
    "      print(diffs[1].diff)\n",
    "      break\n",
    "  # List all the files in the repository\n",
    "  tree = repo.git.ls_tree(\"--full-tree\", \"-r\", \"HEAD\")\n",
    "  print(tree)\n",
    "  files = []\n",
    "  for line in tree.split(\"\\n\"):\n",
    "    # Extract the file name from the output of `git ls-tree`\n",
    "    parts = line.split()\n",
    "    if len(parts) > 1:\n",
    "      files.append(parts[-1])\n",
    "\n",
    "  return files\n",
    "\n",
    "# Example usage:\n",
    "list_files(\"https://github.com/kootenpv/just\")"
   ]
  },
  {
   "cell_type": "code",
   "execution_count": 3,
   "metadata": {},
   "outputs": [
    {
     "ename": "GitCommandError",
     "evalue": "Cmd('git') failed due to: exit code(128)\n  cmdline: git show f9bb2b1f0f2cef490536948a9c0be625ba60a2b2:./.formatter.exs\n  stderr: 'fatal: path '.formatter.exs' exists on disk, but not in 'f9bb2b1f0f2cef490536948a9c0be625ba60a2b2''",
     "output_type": "error",
     "traceback": [
      "\u001b[0;31m---------------------------------------------------------------------------\u001b[0m",
      "\u001b[0;31mGitCommandError\u001b[0m                           Traceback (most recent call last)",
      "Cell \u001b[0;32mIn[3], line 24\u001b[0m\n\u001b[1;32m     21\u001b[0m   \u001b[39mreturn\u001b[39;00m files\n\u001b[1;32m     23\u001b[0m \u001b[39m# Example usage:\u001b[39;00m\n\u001b[0;32m---> 24\u001b[0m list_files(\u001b[39m\"\u001b[39;49m\u001b[39mhttps://github.com/elixir-lang/elixir.git\u001b[39;49m\u001b[39m\"\u001b[39;49m)\n",
      "Cell \u001b[0;32mIn[3], line 18\u001b[0m, in \u001b[0;36mlist_files\u001b[0;34m(repo_url)\u001b[0m\n\u001b[1;32m     15\u001b[0m     sha \u001b[39m=\u001b[39m parts[\u001b[39m2\u001b[39m]\n\u001b[1;32m     17\u001b[0m     \u001b[39m# Retrieve the contents of the file using `git show`\u001b[39;00m\n\u001b[0;32m---> 18\u001b[0m     contents \u001b[39m=\u001b[39m repo\u001b[39m.\u001b[39;49mgit\u001b[39m.\u001b[39;49mshow(\u001b[39mf\u001b[39;49m\u001b[39m\"\u001b[39;49m\u001b[39m{\u001b[39;49;00msha\u001b[39m}\u001b[39;49;00m\u001b[39m:./\u001b[39;49m\u001b[39m{\u001b[39;49;00mname\u001b[39m}\u001b[39;49;00m\u001b[39m\"\u001b[39;49m)\n\u001b[1;32m     19\u001b[0m     files\u001b[39m.\u001b[39mappend({\u001b[39m\"\u001b[39m\u001b[39mname\u001b[39m\u001b[39m\"\u001b[39m: name, \u001b[39m\"\u001b[39m\u001b[39mcontents\u001b[39m\u001b[39m\"\u001b[39m: contents})\n\u001b[1;32m     21\u001b[0m \u001b[39mreturn\u001b[39;00m files\n",
      "File \u001b[0;32m~/Projects/Python/repo-review/.venv/lib/python3.10/site-packages/git/cmd.py:696\u001b[0m, in \u001b[0;36mGit.__getattr__.<locals>.<lambda>\u001b[0;34m(*args, **kwargs)\u001b[0m\n\u001b[1;32m    694\u001b[0m \u001b[39mif\u001b[39;00m name[\u001b[39m0\u001b[39m] \u001b[39m==\u001b[39m \u001b[39m\"\u001b[39m\u001b[39m_\u001b[39m\u001b[39m\"\u001b[39m:\n\u001b[1;32m    695\u001b[0m     \u001b[39mreturn\u001b[39;00m LazyMixin\u001b[39m.\u001b[39m\u001b[39m__getattr__\u001b[39m(\u001b[39mself\u001b[39m, name)\n\u001b[0;32m--> 696\u001b[0m \u001b[39mreturn\u001b[39;00m \u001b[39mlambda\u001b[39;00m \u001b[39m*\u001b[39margs, \u001b[39m*\u001b[39m\u001b[39m*\u001b[39mkwargs: \u001b[39mself\u001b[39;49m\u001b[39m.\u001b[39;49m_call_process(name, \u001b[39m*\u001b[39;49margs, \u001b[39m*\u001b[39;49m\u001b[39m*\u001b[39;49mkwargs)\n",
      "File \u001b[0;32m~/Projects/Python/repo-review/.venv/lib/python3.10/site-packages/git/cmd.py:1270\u001b[0m, in \u001b[0;36mGit._call_process\u001b[0;34m(self, method, *args, **kwargs)\u001b[0m\n\u001b[1;32m   1267\u001b[0m call\u001b[39m.\u001b[39mappend(dashify(method))\n\u001b[1;32m   1268\u001b[0m call\u001b[39m.\u001b[39mextend(args_list)\n\u001b[0;32m-> 1270\u001b[0m \u001b[39mreturn\u001b[39;00m \u001b[39mself\u001b[39;49m\u001b[39m.\u001b[39;49mexecute(call, \u001b[39m*\u001b[39;49m\u001b[39m*\u001b[39;49mexec_kwargs)\n",
      "File \u001b[0;32m~/Projects/Python/repo-review/.venv/lib/python3.10/site-packages/git/cmd.py:1064\u001b[0m, in \u001b[0;36mGit.execute\u001b[0;34m(self, command, istream, with_extended_output, with_exceptions, as_process, output_stream, stdout_as_string, kill_after_timeout, with_stdout, universal_newlines, shell, env, max_chunk_size, strip_newline_in_stdout, **subprocess_kwargs)\u001b[0m\n\u001b[1;32m   1061\u001b[0m \u001b[39m# END handle debug printing\u001b[39;00m\n\u001b[1;32m   1063\u001b[0m \u001b[39mif\u001b[39;00m with_exceptions \u001b[39mand\u001b[39;00m status \u001b[39m!=\u001b[39m \u001b[39m0\u001b[39m:\n\u001b[0;32m-> 1064\u001b[0m     \u001b[39mraise\u001b[39;00m GitCommandError(redacted_command, status, stderr_value, stdout_value)\n\u001b[1;32m   1066\u001b[0m \u001b[39mif\u001b[39;00m \u001b[39misinstance\u001b[39m(stdout_value, \u001b[39mbytes\u001b[39m) \u001b[39mand\u001b[39;00m stdout_as_string:  \u001b[39m# could also be output_stream\u001b[39;00m\n\u001b[1;32m   1067\u001b[0m     stdout_value \u001b[39m=\u001b[39m safe_decode(stdout_value)\n",
      "\u001b[0;31mGitCommandError\u001b[0m: Cmd('git') failed due to: exit code(128)\n  cmdline: git show f9bb2b1f0f2cef490536948a9c0be625ba60a2b2:./.formatter.exs\n  stderr: 'fatal: path '.formatter.exs' exists on disk, but not in 'f9bb2b1f0f2cef490536948a9c0be625ba60a2b2''"
     ]
    }
   ],
   "source": [
    "import git\n",
    "\n",
    "def list_files(repo_url):\n",
    "  # Clone the repository to a local directory\n",
    "  repo = git.Repo.clone_from(repo_url, \"repos/local_repo_2\")\n",
    "\n",
    "  # List all the files in the repository\n",
    "  tree = repo.git.ls_tree(\"--full-tree\", \"-r\", \"HEAD\")\n",
    "  files = []\n",
    "  for line in tree.split(\"\\n\"):\n",
    "    # Extract the file name and SHA from the output of `git ls-tree`\n",
    "    parts = line.split()\n",
    "    if len(parts) > 1:\n",
    "      name = parts[-1]\n",
    "      sha = parts[2]\n",
    "\n",
    "      # Retrieve the contents of the file using `git show`\n",
    "      contents = repo.git.show(f\"{sha}:./{name}\")\n",
    "      files.append({\"name\": name, \"contents\": contents})\n",
    "\n",
    "  return files\n",
    "\n",
    "# Example usage:\n",
    "list_files(\"https://github.com/elixir-lang/elixir.git\")\n"
   ]
  },
  {
   "cell_type": "code",
   "execution_count": 4,
   "metadata": {},
   "outputs": [
    {
     "name": "stdout",
     "output_type": "stream",
     "text": [
      "<git.repo.base.Repo '/home/fox/Projects/Python/repo-review/repos/local_repo_2/.git'>\n"
     ]
    }
   ],
   "source": [
    "repo = git.Repo('repos/local_repo_2')\n",
    "print(repo)\n"
   ]
  }
 ],
 "metadata": {
  "kernelspec": {
   "display_name": ".venv",
   "language": "python",
   "name": "python3"
  },
  "language_info": {
   "codemirror_mode": {
    "name": "ipython",
    "version": 3
   },
   "file_extension": ".py",
   "mimetype": "text/x-python",
   "name": "python",
   "nbconvert_exporter": "python",
   "pygments_lexer": "ipython3",
   "version": "3.10.8"
  },
  "orig_nbformat": 4,
  "vscode": {
   "interpreter": {
    "hash": "8bf7c83b85f6916a526ec3d7accd73d1686ab86ed6ed6f32d2233941fef0cc07"
   }
  }
 },
 "nbformat": 4,
 "nbformat_minor": 2
}
