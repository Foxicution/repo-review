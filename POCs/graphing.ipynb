{
 "cells": [
  {
   "attachments": {},
   "cell_type": "markdown",
   "metadata": {},
   "source": [
    "# Graphing module"
   ]
  },
  {
   "attachments": {},
   "cell_type": "markdown",
   "metadata": {},
   "source": [
    "## Mapping and syntax processing (AST)"
   ]
  },
  {
   "attachments": {},
   "cell_type": "markdown",
   "metadata": {},
   "source": [
    "### Syntax processing\n",
    "- Here there are 3 main options available (that I currently know of)\n",
    "    - ANTLR\n",
    "    - tree-sitter\n",
    "    - Bison (more for config files)"
   ]
  },
  {
   "cell_type": "code",
   "execution_count": null,
   "metadata": {},
   "outputs": [],
   "source": [
    "from src.repository_processing import files_from_repository\n",
    "import tree_sitter_languages\n",
    "from antlr4 import Parser\n",
    "\n",
    "tree_sitter_languages.get_language(\"python\")\n",
    "tree_sitter_languages.get_parser(\"python\")"
   ]
  }
 ],
 "metadata": {
  "kernelspec": {
   "display_name": ".venv",
   "language": "python",
   "name": "python3"
  },
  "language_info": {
   "name": "python",
   "version": "3.10.8 (main, Nov  1 2022, 14:18:21) [GCC 12.2.0]"
  },
  "orig_nbformat": 4,
  "vscode": {
   "interpreter": {
    "hash": "8bf7c83b85f6916a526ec3d7accd73d1686ab86ed6ed6f32d2233941fef0cc07"
   }
  }
 },
 "nbformat": 4,
 "nbformat_minor": 2
}
